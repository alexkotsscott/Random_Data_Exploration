{
 "cells": [
  {
   "cell_type": "markdown",
   "id": "ec3d2dc7-bb51-40c3-8eb4-ddfc53385ca8",
   "metadata": {},
   "source": [
    "<h2 style=\"color:#ff6961\"> Notes - THIS DEMO IS DEDICATED TO MOTOR</h2> <ol  style=\"color:#A7C7E7\">\n",
    "   \n",
    "  <li>All the data is random and ultimatley useless - all created with random samples</li>\n",
    "  <li>Sample sizes can be set</li>\n",
    "  <li>Several lines of business</li>\n",
    "  <li>In fututre could set 1 LOB to have more a more realistic range of sales / purchase price / conversion rate</li>  \n",
    "  <li>Simply a demo over different markets, seperate packs could (and may) be create for each LOB</li>  \n",
    "  <li>Stratify Purchase Price & Premium by LOB</li>\n",
    "  <li>The geographical component is random Lats & Longs, so when reverse geocoding may not have a post code if say it's in the Adriatic sea</li>\n",
    "</ol> \n",
    "\n"
   ]
  },
  {
   "cell_type": "markdown",
   "id": "b65e0559-3b4b-48a1-8d3f-ebaf17765811",
   "metadata": {},
   "source": [
    "<h2 style=\"color:#ff6961\"> Works in Progress </h2> <ol  style=\"color:#A7C7E7\">\n",
    "   \n",
    "  <li>Stratify the data better (by LOB in particular) to better relect realistic scenarios</li>\n",
    "  <li>Example - for commercial property setting the value of the individual site, use external data</li>\n",
    "\n",
    "  <li>Not worthwhile spending time here Going between rpy2 (using Python in R, seperate notebooks for now) - Easier in Data bricks %R, %sql, %Python magic commands</li>\n",
    "  <li>Include some outliers for testing (so can create a control table to flag or drop these fields)</li>\n",
    "\n",
    "\n",
    "</ol> "
   ]
  },
  {
   "cell_type": "markdown",
   "id": "39ea6496-0fcf-40a5-8c2f-ebf0fa67c081",
   "metadata": {},
   "source": [
    "<h2 style=\"color:#D198B7\">Read in Engine to support custom made packages </h2>"
   ]
  },
  {
   "cell_type": "code",
   "execution_count": 1,
   "id": "576982d5-b629-471f-b545-991a88c0f5f0",
   "metadata": {},
   "outputs": [],
   "source": [
    "source(\"C:/Users/alexz/OneDrive/Documents/Git/Engine/Engine.R\")"
   ]
  },
  {
   "cell_type": "markdown",
   "id": "62ae2fa4-ca9e-4963-8dcf-f35956f641a1",
   "metadata": {},
   "source": [
    "<h2 style=\"color:#D198B7\">Set Paths </h2>"
   ]
  },
  {
   "cell_type": "code",
   "execution_count": 2,
   "id": "ef0d0df1-b729-4480-9515-13ba2eb8cc6d",
   "metadata": {},
   "outputs": [],
   "source": [
    "out_path = \"OneDrive/Documents/Data/Train_Test_Motor.csv\""
   ]
  },
  {
   "cell_type": "markdown",
   "id": "c4099e90-5357-43d0-b12f-75f08884edb2",
   "metadata": {},
   "source": [
    "<h3 style=\"color:#98D1B2 \">Load in required libraries</h3>"
   ]
  },
  {
   "cell_type": "code",
   "execution_count": 3,
   "id": "6b84f68f-7379-45fd-aedc-8ccfc46628b5",
   "metadata": {
    "tags": []
   },
   "outputs": [],
   "source": [
    "# List of packages required for the project\n",
    "packs <- c('dplyr', 'tidyr', 'data.table', 'lubridate', 'ids', 'randgeo', 'tidygeocoder')"
   ]
  },
  {
   "cell_type": "code",
   "execution_count": 4,
   "id": "b7bbeb78-bf14-4211-8989-00e3119ab67e",
   "metadata": {
    "collapsed": true,
    "jupyter": {
     "outputs_hidden": true
    },
    "tags": []
   },
   "outputs": [
    {
     "name": "stderr",
     "output_type": "stream",
     "text": [
      "\n",
      "Attaching package: 'dplyr'\n",
      "\n",
      "\n",
      "The following objects are masked from 'package:stats':\n",
      "\n",
      "    filter, lag\n",
      "\n",
      "\n",
      "The following objects are masked from 'package:base':\n",
      "\n",
      "    intersect, setdiff, setequal, union\n",
      "\n",
      "\n",
      "\n",
      "Attaching package: 'data.table'\n",
      "\n",
      "\n",
      "The following objects are masked from 'package:dplyr':\n",
      "\n",
      "    between, first, last\n",
      "\n",
      "\n",
      "\n",
      "Attaching package: 'lubridate'\n",
      "\n",
      "\n",
      "The following objects are masked from 'package:data.table':\n",
      "\n",
      "    hour, isoweek, mday, minute, month, quarter, second, wday, week,\n",
      "    yday, year\n",
      "\n",
      "\n",
      "The following objects are masked from 'package:base':\n",
      "\n",
      "    date, intersect, setdiff, union\n",
      "\n",
      "\n"
     ]
    },
    {
     "data": {
      "text/html": [
       "<dl>\n",
       "\t<dt>$dplyr</dt>\n",
       "\t\t<dd><style>\n",
       ".list-inline {list-style: none; margin:0; padding: 0}\n",
       ".list-inline>li {display: inline-block}\n",
       ".list-inline>li:not(:last-child)::after {content: \"\\00b7\"; padding: 0 .5ex}\n",
       "</style>\n",
       "<ol class=list-inline><li>'dplyr'</li><li>'stats'</li><li>'graphics'</li><li>'grDevices'</li><li>'utils'</li><li>'datasets'</li><li>'methods'</li><li>'base'</li></ol>\n",
       "</dd>\n",
       "\t<dt>$tidyr</dt>\n",
       "\t\t<dd><style>\n",
       ".list-inline {list-style: none; margin:0; padding: 0}\n",
       ".list-inline>li {display: inline-block}\n",
       ".list-inline>li:not(:last-child)::after {content: \"\\00b7\"; padding: 0 .5ex}\n",
       "</style>\n",
       "<ol class=list-inline><li>'tidyr'</li><li>'dplyr'</li><li>'stats'</li><li>'graphics'</li><li>'grDevices'</li><li>'utils'</li><li>'datasets'</li><li>'methods'</li><li>'base'</li></ol>\n",
       "</dd>\n",
       "\t<dt>$data.table</dt>\n",
       "\t\t<dd><style>\n",
       ".list-inline {list-style: none; margin:0; padding: 0}\n",
       ".list-inline>li {display: inline-block}\n",
       ".list-inline>li:not(:last-child)::after {content: \"\\00b7\"; padding: 0 .5ex}\n",
       "</style>\n",
       "<ol class=list-inline><li>'data.table'</li><li>'tidyr'</li><li>'dplyr'</li><li>'stats'</li><li>'graphics'</li><li>'grDevices'</li><li>'utils'</li><li>'datasets'</li><li>'methods'</li><li>'base'</li></ol>\n",
       "</dd>\n",
       "\t<dt>$lubridate</dt>\n",
       "\t\t<dd><style>\n",
       ".list-inline {list-style: none; margin:0; padding: 0}\n",
       ".list-inline>li {display: inline-block}\n",
       ".list-inline>li:not(:last-child)::after {content: \"\\00b7\"; padding: 0 .5ex}\n",
       "</style>\n",
       "<ol class=list-inline><li>'lubridate'</li><li>'data.table'</li><li>'tidyr'</li><li>'dplyr'</li><li>'stats'</li><li>'graphics'</li><li>'grDevices'</li><li>'utils'</li><li>'datasets'</li><li>'methods'</li><li>'base'</li></ol>\n",
       "</dd>\n",
       "\t<dt>$ids</dt>\n",
       "\t\t<dd><style>\n",
       ".list-inline {list-style: none; margin:0; padding: 0}\n",
       ".list-inline>li {display: inline-block}\n",
       ".list-inline>li:not(:last-child)::after {content: \"\\00b7\"; padding: 0 .5ex}\n",
       "</style>\n",
       "<ol class=list-inline><li>'ids'</li><li>'lubridate'</li><li>'data.table'</li><li>'tidyr'</li><li>'dplyr'</li><li>'stats'</li><li>'graphics'</li><li>'grDevices'</li><li>'utils'</li><li>'datasets'</li><li>'methods'</li><li>'base'</li></ol>\n",
       "</dd>\n",
       "\t<dt>$randgeo</dt>\n",
       "\t\t<dd><style>\n",
       ".list-inline {list-style: none; margin:0; padding: 0}\n",
       ".list-inline>li {display: inline-block}\n",
       ".list-inline>li:not(:last-child)::after {content: \"\\00b7\"; padding: 0 .5ex}\n",
       "</style>\n",
       "<ol class=list-inline><li>'randgeo'</li><li>'ids'</li><li>'lubridate'</li><li>'data.table'</li><li>'tidyr'</li><li>'dplyr'</li><li>'stats'</li><li>'graphics'</li><li>'grDevices'</li><li>'utils'</li><li>'datasets'</li><li>'methods'</li><li>'base'</li></ol>\n",
       "</dd>\n",
       "\t<dt>$tidygeocoder</dt>\n",
       "\t\t<dd><style>\n",
       ".list-inline {list-style: none; margin:0; padding: 0}\n",
       ".list-inline>li {display: inline-block}\n",
       ".list-inline>li:not(:last-child)::after {content: \"\\00b7\"; padding: 0 .5ex}\n",
       "</style>\n",
       "<ol class=list-inline><li>'tidygeocoder'</li><li>'randgeo'</li><li>'ids'</li><li>'lubridate'</li><li>'data.table'</li><li>'tidyr'</li><li>'dplyr'</li><li>'stats'</li><li>'graphics'</li><li>'grDevices'</li><li>'utils'</li><li>'datasets'</li><li>'methods'</li><li>'base'</li></ol>\n",
       "</dd>\n",
       "</dl>\n"
      ],
      "text/latex": [
       "\\begin{description}\n",
       "\\item[\\$dplyr] \\begin{enumerate*}\n",
       "\\item 'dplyr'\n",
       "\\item 'stats'\n",
       "\\item 'graphics'\n",
       "\\item 'grDevices'\n",
       "\\item 'utils'\n",
       "\\item 'datasets'\n",
       "\\item 'methods'\n",
       "\\item 'base'\n",
       "\\end{enumerate*}\n",
       "\n",
       "\\item[\\$tidyr] \\begin{enumerate*}\n",
       "\\item 'tidyr'\n",
       "\\item 'dplyr'\n",
       "\\item 'stats'\n",
       "\\item 'graphics'\n",
       "\\item 'grDevices'\n",
       "\\item 'utils'\n",
       "\\item 'datasets'\n",
       "\\item 'methods'\n",
       "\\item 'base'\n",
       "\\end{enumerate*}\n",
       "\n",
       "\\item[\\$data.table] \\begin{enumerate*}\n",
       "\\item 'data.table'\n",
       "\\item 'tidyr'\n",
       "\\item 'dplyr'\n",
       "\\item 'stats'\n",
       "\\item 'graphics'\n",
       "\\item 'grDevices'\n",
       "\\item 'utils'\n",
       "\\item 'datasets'\n",
       "\\item 'methods'\n",
       "\\item 'base'\n",
       "\\end{enumerate*}\n",
       "\n",
       "\\item[\\$lubridate] \\begin{enumerate*}\n",
       "\\item 'lubridate'\n",
       "\\item 'data.table'\n",
       "\\item 'tidyr'\n",
       "\\item 'dplyr'\n",
       "\\item 'stats'\n",
       "\\item 'graphics'\n",
       "\\item 'grDevices'\n",
       "\\item 'utils'\n",
       "\\item 'datasets'\n",
       "\\item 'methods'\n",
       "\\item 'base'\n",
       "\\end{enumerate*}\n",
       "\n",
       "\\item[\\$ids] \\begin{enumerate*}\n",
       "\\item 'ids'\n",
       "\\item 'lubridate'\n",
       "\\item 'data.table'\n",
       "\\item 'tidyr'\n",
       "\\item 'dplyr'\n",
       "\\item 'stats'\n",
       "\\item 'graphics'\n",
       "\\item 'grDevices'\n",
       "\\item 'utils'\n",
       "\\item 'datasets'\n",
       "\\item 'methods'\n",
       "\\item 'base'\n",
       "\\end{enumerate*}\n",
       "\n",
       "\\item[\\$randgeo] \\begin{enumerate*}\n",
       "\\item 'randgeo'\n",
       "\\item 'ids'\n",
       "\\item 'lubridate'\n",
       "\\item 'data.table'\n",
       "\\item 'tidyr'\n",
       "\\item 'dplyr'\n",
       "\\item 'stats'\n",
       "\\item 'graphics'\n",
       "\\item 'grDevices'\n",
       "\\item 'utils'\n",
       "\\item 'datasets'\n",
       "\\item 'methods'\n",
       "\\item 'base'\n",
       "\\end{enumerate*}\n",
       "\n",
       "\\item[\\$tidygeocoder] \\begin{enumerate*}\n",
       "\\item 'tidygeocoder'\n",
       "\\item 'randgeo'\n",
       "\\item 'ids'\n",
       "\\item 'lubridate'\n",
       "\\item 'data.table'\n",
       "\\item 'tidyr'\n",
       "\\item 'dplyr'\n",
       "\\item 'stats'\n",
       "\\item 'graphics'\n",
       "\\item 'grDevices'\n",
       "\\item 'utils'\n",
       "\\item 'datasets'\n",
       "\\item 'methods'\n",
       "\\item 'base'\n",
       "\\end{enumerate*}\n",
       "\n",
       "\\end{description}\n"
      ],
      "text/markdown": [
       "$dplyr\n",
       ":   1. 'dplyr'\n",
       "2. 'stats'\n",
       "3. 'graphics'\n",
       "4. 'grDevices'\n",
       "5. 'utils'\n",
       "6. 'datasets'\n",
       "7. 'methods'\n",
       "8. 'base'\n",
       "\n",
       "\n",
       "\n",
       "$tidyr\n",
       ":   1. 'tidyr'\n",
       "2. 'dplyr'\n",
       "3. 'stats'\n",
       "4. 'graphics'\n",
       "5. 'grDevices'\n",
       "6. 'utils'\n",
       "7. 'datasets'\n",
       "8. 'methods'\n",
       "9. 'base'\n",
       "\n",
       "\n",
       "\n",
       "$data.table\n",
       ":   1. 'data.table'\n",
       "2. 'tidyr'\n",
       "3. 'dplyr'\n",
       "4. 'stats'\n",
       "5. 'graphics'\n",
       "6. 'grDevices'\n",
       "7. 'utils'\n",
       "8. 'datasets'\n",
       "9. 'methods'\n",
       "10. 'base'\n",
       "\n",
       "\n",
       "\n",
       "$lubridate\n",
       ":   1. 'lubridate'\n",
       "2. 'data.table'\n",
       "3. 'tidyr'\n",
       "4. 'dplyr'\n",
       "5. 'stats'\n",
       "6. 'graphics'\n",
       "7. 'grDevices'\n",
       "8. 'utils'\n",
       "9. 'datasets'\n",
       "10. 'methods'\n",
       "11. 'base'\n",
       "\n",
       "\n",
       "\n",
       "$ids\n",
       ":   1. 'ids'\n",
       "2. 'lubridate'\n",
       "3. 'data.table'\n",
       "4. 'tidyr'\n",
       "5. 'dplyr'\n",
       "6. 'stats'\n",
       "7. 'graphics'\n",
       "8. 'grDevices'\n",
       "9. 'utils'\n",
       "10. 'datasets'\n",
       "11. 'methods'\n",
       "12. 'base'\n",
       "\n",
       "\n",
       "\n",
       "$randgeo\n",
       ":   1. 'randgeo'\n",
       "2. 'ids'\n",
       "3. 'lubridate'\n",
       "4. 'data.table'\n",
       "5. 'tidyr'\n",
       "6. 'dplyr'\n",
       "7. 'stats'\n",
       "8. 'graphics'\n",
       "9. 'grDevices'\n",
       "10. 'utils'\n",
       "11. 'datasets'\n",
       "12. 'methods'\n",
       "13. 'base'\n",
       "\n",
       "\n",
       "\n",
       "$tidygeocoder\n",
       ":   1. 'tidygeocoder'\n",
       "2. 'randgeo'\n",
       "3. 'ids'\n",
       "4. 'lubridate'\n",
       "5. 'data.table'\n",
       "6. 'tidyr'\n",
       "7. 'dplyr'\n",
       "8. 'stats'\n",
       "9. 'graphics'\n",
       "10. 'grDevices'\n",
       "11. 'utils'\n",
       "12. 'datasets'\n",
       "13. 'methods'\n",
       "14. 'base'\n",
       "\n",
       "\n",
       "\n",
       "\n",
       "\n"
      ],
      "text/plain": [
       "$dplyr\n",
       "[1] \"dplyr\"     \"stats\"     \"graphics\"  \"grDevices\" \"utils\"     \"datasets\" \n",
       "[7] \"methods\"   \"base\"     \n",
       "\n",
       "$tidyr\n",
       "[1] \"tidyr\"     \"dplyr\"     \"stats\"     \"graphics\"  \"grDevices\" \"utils\"    \n",
       "[7] \"datasets\"  \"methods\"   \"base\"     \n",
       "\n",
       "$data.table\n",
       " [1] \"data.table\" \"tidyr\"      \"dplyr\"      \"stats\"      \"graphics\"  \n",
       " [6] \"grDevices\"  \"utils\"      \"datasets\"   \"methods\"    \"base\"      \n",
       "\n",
       "$lubridate\n",
       " [1] \"lubridate\"  \"data.table\" \"tidyr\"      \"dplyr\"      \"stats\"     \n",
       " [6] \"graphics\"   \"grDevices\"  \"utils\"      \"datasets\"   \"methods\"   \n",
       "[11] \"base\"      \n",
       "\n",
       "$ids\n",
       " [1] \"ids\"        \"lubridate\"  \"data.table\" \"tidyr\"      \"dplyr\"     \n",
       " [6] \"stats\"      \"graphics\"   \"grDevices\"  \"utils\"      \"datasets\"  \n",
       "[11] \"methods\"    \"base\"      \n",
       "\n",
       "$randgeo\n",
       " [1] \"randgeo\"    \"ids\"        \"lubridate\"  \"data.table\" \"tidyr\"     \n",
       " [6] \"dplyr\"      \"stats\"      \"graphics\"   \"grDevices\"  \"utils\"     \n",
       "[11] \"datasets\"   \"methods\"    \"base\"      \n",
       "\n",
       "$tidygeocoder\n",
       " [1] \"tidygeocoder\" \"randgeo\"      \"ids\"          \"lubridate\"    \"data.table\"  \n",
       " [6] \"tidyr\"        \"dplyr\"        \"stats\"        \"graphics\"     \"grDevices\"   \n",
       "[11] \"utils\"        \"datasets\"     \"methods\"      \"base\"        \n"
      ]
     },
     "metadata": {},
     "output_type": "display_data"
    }
   ],
   "source": [
    "install_load_packages(packs)"
   ]
  },
  {
   "cell_type": "code",
   "execution_count": 5,
   "id": "9f92e216-5807-4d03-910b-e8ebf3b15a26",
   "metadata": {
    "tags": []
   },
   "outputs": [],
   "source": [
    "# Set Sample Size\n",
    "sample_size = 100000"
   ]
  },
  {
   "cell_type": "markdown",
   "id": "93ed5daf-b28d-40b9-9590-9ef9b7275abc",
   "metadata": {},
   "source": [
    "<h3 style=\"color:#98D1B2 \">Create Dummy Data - DataFrame</h3>"
   ]
  },
  {
   "cell_type": "code",
   "execution_count": 6,
   "id": "0c063516-6420-47a3-9530-ceae9f6fd012",
   "metadata": {},
   "outputs": [],
   "source": [
    "# Create Vector of factors with colNames\n",
    "colNames = c(\"Customer_ID\", \"Purchase_Date\", \"Cover_Start_Date\", \"LOB\", \"Sale_Flag\", \"Purchase_Price\",\n",
    "             \"Claims_Count\", \"Period_of_Cover\", \"Premium\", \"Age\", \"Broker\")\n",
    "\n",
    "# Create a Empty DataFrame with 0 rows and n columns (set in sample_size)\n",
    "df = data.frame(matrix(nrow = sample_size, ncol = length(colNames))) "
   ]
  },
  {
   "cell_type": "markdown",
   "id": "2b0e5d5e-0f9b-4d31-9d90-b44ff48b8086",
   "metadata": {
    "tags": []
   },
   "source": [
    "<h3 style=\"color:#98D1B2 \">Create Dummy Data - populate DataFrame</h3>"
   ]
  },
  {
   "cell_type": "code",
   "execution_count": 7,
   "id": "bed7d3ac-b063-47b6-ac7c-53c168e8bd55",
   "metadata": {},
   "outputs": [],
   "source": [
    "# Generate Random Customer IDs\n",
    "df$Customer_ID <- random_id(sample_size)"
   ]
  },
  {
   "cell_type": "code",
   "execution_count": 8,
   "id": "05ceec3f-2850-4b44-9f89-75fa09bdc641",
   "metadata": {},
   "outputs": [],
   "source": [
    "# SET date components:\n",
    "s_year <- 2022\n",
    "s_month <- 01 \n",
    "s_day <- 01\n",
    "\n",
    "dt_start <- paste(s_year, s_month, s_day, sep = '-')\n",
    "dt_start <- as.Date(ymd(dt_start))\n",
    "\n",
    "current_dt <- as.Date(today())\n",
    "\n",
    "td <- current_dt - dt_start #time difference"
   ]
  },
  {
   "cell_type": "code",
   "execution_count": 9,
   "id": "cfe50d19-c607-4ac2-a2f3-14db4dce75ae",
   "metadata": {},
   "outputs": [
    {
     "name": "stderr",
     "output_type": "stream",
     "text": [
      "Warning message in unclass(e1) + unclass(e2):\n",
      "\"longer object length is not a multiple of shorter object length\"\n"
     ]
    }
   ],
   "source": [
    "# Assign column names\n",
    "colnames(df) = colNames\n",
    "\n",
    "date_range <- as.Date('2022-01-01') - as.Date('2023-01-01') # date Range\n",
    "date_vec <- as.Date('2023-01-01') + sample(0:td, sample_size, replace = TRUE) # vector of dates\n",
    "\n",
    "df$Purchase_Date <- date_vec\n",
    "df$Cover_Start_Date = date_vec + sample(1:365, replace = TRUE) # start dates up to a year of purchase date - random"
   ]
  },
  {
   "cell_type": "code",
   "execution_count": 10,
   "id": "1ea564a1-84c8-4354-a3d5-91c867668cf8",
   "metadata": {},
   "outputs": [],
   "source": [
    "# Lines of Business\n",
    "lob_list <- c('Motor')\n",
    "df$LOB <- sample(lob_list, sample_size, replace=TRUE)"
   ]
  },
  {
   "cell_type": "code",
   "execution_count": 11,
   "id": "18dc7dad-02c3-418a-8bf7-2a3342ea747b",
   "metadata": {},
   "outputs": [],
   "source": [
    "# Sale Flag\n",
    "df$Sale_Flag <- sample(0:1, sample_size, replace=TRUE)"
   ]
  },
  {
   "cell_type": "code",
   "execution_count": 12,
   "id": "fc663e23-c3f2-4caa-b4bc-568789cf5ea5",
   "metadata": {
    "tags": []
   },
   "outputs": [],
   "source": [
    "# Purchase Price\n",
    "df$Purchase_Price <- sample(10:100000, sample_size, replace=TRUE)"
   ]
  },
  {
   "cell_type": "code",
   "execution_count": 13,
   "id": "c0d5910d-9874-495f-933f-02741c46508b",
   "metadata": {},
   "outputs": [],
   "source": [
    "# Premium\n",
    "df$Premium <- sample(10:1000, sample_size, replace=TRUE)"
   ]
  },
  {
   "cell_type": "code",
   "execution_count": 14,
   "id": "6e3dba26-ecc5-4106-8c5e-648b2f227652",
   "metadata": {},
   "outputs": [],
   "source": [
    "# Claims Count\n",
    "# If there is a sale - there is a possibility of a claim - otherwise it must default to zero\n",
    "df$Claims_Count <- ifelse(df$Sale_Flag == 1, \n",
    "                      sample(0:1, sample_size, replace = T),\n",
    "                      0)"
   ]
  },
  {
   "cell_type": "code",
   "execution_count": 15,
   "id": "a54707b7-b20b-48a1-8025-74a441d69654",
   "metadata": {},
   "outputs": [],
   "source": [
    "# Period of cover by months\n",
    "sample_input <- c(12, 24, 36, 48)\n",
    "df$Period_of_Cover <- sample(sample_input, sample_size, TRUE)"
   ]
  },
  {
   "cell_type": "code",
   "execution_count": 16,
   "id": "198b8c7c-1482-495e-a387-538ad8da9220",
   "metadata": {},
   "outputs": [],
   "source": [
    "# Generate random Lats & Longs\n",
    "# Can then Reverse Geocode to get Postcode\n",
    "# Slow but an example - other ways to approach \n",
    "# This is for demo\n",
    "lats_longs <- rg_position(sample_size)\n",
    "lats_longs <- as.data.frame(t(data.frame(lats_longs)))"
   ]
  },
  {
   "cell_type": "code",
   "execution_count": 17,
   "id": "27283cab-572f-4347-bd20-43dfc32e471e",
   "metadata": {},
   "outputs": [],
   "source": [
    "names(lats_longs) <- c('Latitude', 'Longitude')\n",
    "\n",
    "df$Latitude <- lats_longs$Latitude\n",
    "df$Longitude <- lats_longs$Longitude"
   ]
  },
  {
   "cell_type": "code",
   "execution_count": null,
   "id": "7b34ca29-c458-4933-8a6f-797286bc7952",
   "metadata": {},
   "outputs": [
    {
     "name": "stderr",
     "output_type": "stream",
     "text": [
      "Passing 49,802 coordinates to the Nominatim single coordinate geocoder\n",
      "\n"
     ]
    }
   ],
   "source": [
    "start_time <- Sys.time()\n",
    "# get post_codes \n",
    "# if not in the arctic or lake Victoria\n",
    "# very slow - free but time cost\n",
    "reverse <- lats_longs %>%\n",
    "  reverse_geocode(lat = Latitude, long = Longitude, method = 'osm',\n",
    "                  address = address_found, full_results = TRUE)"
   ]
  },
  {
   "cell_type": "code",
   "execution_count": null,
   "id": "bccb1dd6-575b-48a7-b015-f555fdebfed5",
   "metadata": {},
   "outputs": [],
   "source": [
    "end_time <- Sys.time()\n",
    "end_time - start_time\n",
    "end_time"
   ]
  },
  {
   "cell_type": "code",
   "execution_count": null,
   "id": "c69db6f6-5b08-4929-a4c2-b1d3a1e27665",
   "metadata": {},
   "outputs": [],
   "source": [
    "#df$Age <- sample(18, 80, TRUE)\n",
    "df$Age <- sample(18:80, sample_size, replace=TRUE)"
   ]
  },
  {
   "cell_type": "code",
   "execution_count": null,
   "id": "9179948d-4acd-4377-a5ec-13e99834a6bf",
   "metadata": {},
   "outputs": [],
   "source": [
    "# Lines of Business\n",
    "broker_list <- c('london_ins', 'some_syndicate', 'some_mga')\n",
    "df$Broker <- sample(broker_list, sample_size, replace=TRUE)"
   ]
  },
  {
   "cell_type": "code",
   "execution_count": null,
   "id": "c1b6c544-e4c0-46cf-9e6f-c1fe4189b0fe",
   "metadata": {},
   "outputs": [],
   "source": []
  },
  {
   "cell_type": "code",
   "execution_count": null,
   "id": "a3920538-3091-4118-a7ba-e949d8e79df4",
   "metadata": {},
   "outputs": [],
   "source": [
    "head(df)"
   ]
  },
  {
   "cell_type": "code",
   "execution_count": null,
   "id": "19babd29-7c34-4e47-95bf-971831402c17",
   "metadata": {},
   "outputs": [],
   "source": [
    "fwrite(df, output_path)"
   ]
  }
 ],
 "metadata": {
  "kernelspec": {
   "display_name": "R 4.2",
   "language": "R",
   "name": "ir42"
  },
  "language_info": {
   "codemirror_mode": "r",
   "file_extension": ".r",
   "mimetype": "text/x-r-source",
   "name": "R",
   "pygments_lexer": "r",
   "version": "4.2.2"
  }
 },
 "nbformat": 4,
 "nbformat_minor": 5
}
