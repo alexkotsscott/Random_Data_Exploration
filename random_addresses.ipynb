{
 "cells": [
  {
   "cell_type": "markdown",
   "id": "ac18b4f2-8735-41f7-8b13-349b431406f2",
   "metadata": {},
   "source": [
    "<h2 style=\"color:#ff6961\"> Generate Random US Adresses </h2> <ol  style=\"color:#A7C7E7\">\n",
    "   \n",
    "  <li> Not yet a package (so a user can set inputs such as state & number of addresses to generate </li>\n",
    "  <li> Line 3 gives an example of the output from the function </li>\n",
    "  <li> We run 'pd.json_normalize' to create a flat dataframe file </li>\n",
    "\n",
    "</ol> "
   ]
  },
  {
   "cell_type": "code",
   "execution_count": 1,
   "id": "482caa9a-6764-49a0-873d-c688851823b2",
   "metadata": {},
   "outputs": [],
   "source": [
    "# pip install random-address\n",
    "# pip install pandas\n",
    "\n",
    "import os\n",
    "import pandas as pd\n",
    "import random_address\n",
    "\n",
    "from random_address import real_random_address"
   ]
  },
  {
   "cell_type": "code",
   "execution_count": 2,
   "id": "1eed6996-1dea-4d76-85aa-9a1f98c154aa",
   "metadata": {},
   "outputs": [
    {
     "data": {
      "text/plain": [
       "{'address1': '105 Bear Creek Parkway',\n",
       " 'address2': '',\n",
       " 'city': 'Edgewater',\n",
       " 'state': 'MD',\n",
       " 'postalCode': '21037',\n",
       " 'coordinates': {'lat': 38.901074, 'lng': -76.524779}}"
      ]
     },
     "execution_count": 2,
     "metadata": {},
     "output_type": "execute_result"
    }
   ],
   "source": [
    "# Generate a dictionary with valid random address information example\n",
    "random_address.real_random_address()"
   ]
  },
  {
   "cell_type": "code",
   "execution_count": 3,
   "id": "f22b4735-c656-4a28-8a39-036f75ed8f52",
   "metadata": {},
   "outputs": [],
   "source": [
    "def create_random_address_us():\n",
    "    \n",
    "    \"\"\"\n",
    "    Args:\n",
    "            None\n",
    "            May develope some - such as the desired state\n",
    "            At the time of writing only generates random postcodes in the US\n",
    "            \n",
    "    Returns:    \n",
    "            Random Addresses in the US\n",
    "\n",
    "    Notes:\n",
    "            Coming soon\n",
    "\n",
    "   \"\"\"\n",
    "    \n",
    "    add_dict = real_random_address()\n",
    "    add_df = pd.json_normalize(add_dict)\n",
    "    \n",
    "    return (add_df)"
   ]
  },
  {
   "cell_type": "code",
   "execution_count": 4,
   "id": "afd1f65e-6d84-4025-bf2d-5f044adaf7f3",
   "metadata": {},
   "outputs": [],
   "source": [
    "appended_data = []\n",
    "for i in range(5):\n",
    "    data = create_random_address_us()\n",
    "    # store DataFrame in list\n",
    "    appended_data.append(data)"
   ]
  },
  {
   "cell_type": "code",
   "execution_count": 5,
   "id": "2a9313f4-1f6d-4d01-933d-9a1d6fb340ed",
   "metadata": {},
   "outputs": [],
   "source": [
    "# Deprecated\n",
    "# pd.DataFrame(appended_data, columns=add_col_names).explode('Item', ignore_index=True)"
   ]
  },
  {
   "cell_type": "code",
   "execution_count": 6,
   "id": "06c27e94-8b2b-43d1-8616-2ab672a8a9a3",
   "metadata": {},
   "outputs": [],
   "source": [
    "# Directory to output data to\n",
    "os.chdir('C:/Users/alexz/OneDrive/Documents/sandbox/data')"
   ]
  },
  {
   "cell_type": "code",
   "execution_count": 7,
   "id": "9d5f26a4-ea9f-4b51-a45b-050fbadd0804",
   "metadata": {},
   "outputs": [],
   "source": [
    "df= pd.DataFrame({'address1': [],\n",
    "                 'address2': [],\n",
    "                 'city': [],\n",
    "                 'state': [],\n",
    "                 'postalCode': [],\n",
    "                 'coordinates.lat': [],\n",
    "                 'coordinates.lng': []\n",
    "                 })"
   ]
  },
  {
   "cell_type": "code",
   "execution_count": 8,
   "id": "0d105ef6-38e0-4851-8396-a198064d498a",
   "metadata": {},
   "outputs": [],
   "source": [
    "# Column names to be applied to the dataframe\n",
    "\n",
    "add_col_names = ['address1',\n",
    "'address2',\n",
    "'city',\n",
    "'state',\n",
    "'postalCode',\n",
    "'coordinates.lat',\n",
    "'coordinates.lng']"
   ]
  },
  {
   "cell_type": "code",
   "execution_count": 9,
   "id": "12180dbf-1891-42e2-b6cc-08bb1ed73176",
   "metadata": {},
   "outputs": [],
   "source": [
    "filename = \"random_us_addresses.csv\" # Name of the output file\n",
    "if not os.path.isfile(filename):\n",
    "    df.to_csv(filename, header='column_names', index=False)\n",
    "else:  # else it exists so append without writing the header\n",
    "    df.to_csv(filename, mode='a', header=False, index=False)"
   ]
  },
  {
   "cell_type": "code",
   "execution_count": 10,
   "id": "e3a23d24-e15b-4396-a133-32750d78490d",
   "metadata": {},
   "outputs": [],
   "source": [
    "# As stated above - the range below is arbitray, if useful, can be made a single package & user features can be included (like below test)\n",
    "for i in range(10000):\n",
    "    address_data = create_random_address_us()\n",
    "    # store DataFrame in list\n",
    "    address_data.to_csv(filename, mode='a', header=False, index=False)"
   ]
  },
  {
   "cell_type": "code",
   "execution_count": 11,
   "id": "e5f646c7-a972-42ce-b169-ef539a98fe84",
   "metadata": {},
   "outputs": [
    {
     "data": {
      "text/html": [
       "<div>\n",
       "<style scoped>\n",
       "    .dataframe tbody tr th:only-of-type {\n",
       "        vertical-align: middle;\n",
       "    }\n",
       "\n",
       "    .dataframe tbody tr th {\n",
       "        vertical-align: top;\n",
       "    }\n",
       "\n",
       "    .dataframe thead th {\n",
       "        text-align: right;\n",
       "    }\n",
       "</style>\n",
       "<table border=\"1\" class=\"dataframe\">\n",
       "  <thead>\n",
       "    <tr style=\"text-align: right;\">\n",
       "      <th></th>\n",
       "      <th>address1</th>\n",
       "      <th>address2</th>\n",
       "      <th>city</th>\n",
       "      <th>state</th>\n",
       "      <th>postalCode</th>\n",
       "      <th>coordinates.lat</th>\n",
       "      <th>coordinates.lng</th>\n",
       "    </tr>\n",
       "  </thead>\n",
       "  <tbody>\n",
       "    <tr>\n",
       "      <th>0</th>\n",
       "      <td>513 Habberton Road</td>\n",
       "      <td></td>\n",
       "      <td>Fayetteville</td>\n",
       "      <td>AR</td>\n",
       "      <td>72703</td>\n",
       "      <td>36.107299</td>\n",
       "      <td>-94.053033</td>\n",
       "    </tr>\n",
       "  </tbody>\n",
       "</table>\n",
       "</div>"
      ],
      "text/plain": [
       "             address1 address2          city state postalCode  \\\n",
       "0  513 Habberton Road           Fayetteville    AR      72703   \n",
       "\n",
       "   coordinates.lat  coordinates.lng  \n",
       "0        36.107299       -94.053033  "
      ]
     },
     "execution_count": 11,
     "metadata": {},
     "output_type": "execute_result"
    }
   ],
   "source": [
    "address_data"
   ]
  },
  {
   "cell_type": "code",
   "execution_count": 12,
   "id": "0296b2b7-2ba2-423a-88bc-b788bce2d54d",
   "metadata": {},
   "outputs": [
    {
     "data": {
      "text/plain": [
       "_StoreAction(option_strings=['--opt1'], dest='opt1', nargs=None, const=None, default=None, type=None, choices=None, required=False, help=None, metavar=None)"
      ]
     },
     "execution_count": 12,
     "metadata": {},
     "output_type": "execute_result"
    }
   ],
   "source": [
    "import argparse\n",
    "parser = argparse.ArgumentParser(description='Script so useful.')\n",
    "parser.add_argument(\"--opt1\")"
   ]
  },
  {
   "cell_type": "code",
   "execution_count": null,
   "id": "26a13e93-46a2-4a18-be44-3d5e728a084b",
   "metadata": {},
   "outputs": [],
   "source": []
  }
 ],
 "metadata": {
  "kernelspec": {
   "display_name": "Python 3 (ipykernel)",
   "language": "python",
   "name": "python3"
  },
  "language_info": {
   "codemirror_mode": {
    "name": "ipython",
    "version": 3
   },
   "file_extension": ".py",
   "mimetype": "text/x-python",
   "name": "python",
   "nbconvert_exporter": "python",
   "pygments_lexer": "ipython3",
   "version": "3.10.9"
  }
 },
 "nbformat": 4,
 "nbformat_minor": 5
}
