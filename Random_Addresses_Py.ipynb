{
 "cells": [
  {
   "cell_type": "code",
   "execution_count": 1,
   "id": "482caa9a-6764-49a0-873d-c688851823b2",
   "metadata": {},
   "outputs": [
    {
     "data": {
      "text/html": [
       "<div>\n",
       "<style scoped>\n",
       "    .dataframe tbody tr th:only-of-type {\n",
       "        vertical-align: middle;\n",
       "    }\n",
       "\n",
       "    .dataframe tbody tr th {\n",
       "        vertical-align: top;\n",
       "    }\n",
       "\n",
       "    .dataframe thead th {\n",
       "        text-align: right;\n",
       "    }\n",
       "</style>\n",
       "<table border=\"1\" class=\"dataframe\">\n",
       "  <thead>\n",
       "    <tr style=\"text-align: right;\">\n",
       "      <th></th>\n",
       "      <th>address1</th>\n",
       "      <th>address2</th>\n",
       "      <th>city</th>\n",
       "      <th>state</th>\n",
       "      <th>postalCode</th>\n",
       "      <th>coordinates.lat</th>\n",
       "      <th>coordinates.lng</th>\n",
       "    </tr>\n",
       "  </thead>\n",
       "  <tbody>\n",
       "    <tr>\n",
       "      <th>0</th>\n",
       "      <td>396 Hartford Road</td>\n",
       "      <td>B</td>\n",
       "      <td>Manchester</td>\n",
       "      <td>CT</td>\n",
       "      <td>06040</td>\n",
       "      <td>41.7642</td>\n",
       "      <td>-72.538522</td>\n",
       "    </tr>\n",
       "  </tbody>\n",
       "</table>\n",
       "</div>"
      ],
      "text/plain": [
       "            address1 address2        city state postalCode  coordinates.lat  \\\n",
       "0  396 Hartford Road        B  Manchester    CT      06040          41.7642   \n",
       "\n",
       "   coordinates.lng  \n",
       "0       -72.538522  "
      ]
     },
     "execution_count": 1,
     "metadata": {},
     "output_type": "execute_result"
    }
   ],
   "source": [
    "# pip install random-address\n",
    "# pip install pandas\n",
    "\n",
    "import pandas as pd\n",
    "import random_address\n",
    "\n",
    "from random_address import real_random_address\n",
    "\n",
    "add_dict = real_random_address()\n",
    "pd.json_normalize(add_dict) # create data frame from .json format\n",
    "\n"
   ]
  },
  {
   "cell_type": "code",
   "execution_count": 62,
   "id": "1eed6996-1dea-4d76-85aa-9a1f98c154aa",
   "metadata": {},
   "outputs": [
    {
     "data": {
      "text/plain": [
       "{'address1': '5856 Parfet Court',\n",
       " 'address2': '',\n",
       " 'city': 'Arvada',\n",
       " 'state': 'CO',\n",
       " 'postalCode': '80004',\n",
       " 'coordinates': {'lat': 39.80326, 'lng': -105.121486}}"
      ]
     },
     "execution_count": 62,
     "metadata": {},
     "output_type": "execute_result"
    }
   ],
   "source": [
    "# Generate a dictionary with valid random address information\n",
    "random_address.real_random_address()"
   ]
  },
  {
   "cell_type": "code",
   "execution_count": 63,
   "id": "0f6db18e-eeb5-4284-b336-69e3ef27a5fc",
   "metadata": {},
   "outputs": [
    {
     "data": {
      "text/plain": [
       "{'address1': '310 12th Avenue',\n",
       " 'address2': '',\n",
       " 'city': 'Santa Cruz',\n",
       " 'state': 'CA',\n",
       " 'postalCode': '95062',\n",
       " 'coordinates': {'lat': 36.963154, 'lng': -121.994045}}"
      ]
     },
     "execution_count": 63,
     "metadata": {},
     "output_type": "execute_result"
    }
   ],
   "source": [
    "random_address.real_random_address()"
   ]
  },
  {
   "cell_type": "code",
   "execution_count": 2,
   "id": "f22b4735-c656-4a28-8a39-036f75ed8f52",
   "metadata": {},
   "outputs": [],
   "source": [
    "def create_random_address_us():\n",
    "    \n",
    "    add_dict = real_random_address()\n",
    "    add_df = pd.json_normalize(add_dict)\n",
    "    \n",
    "    return (add_df)\n",
    "\n"
   ]
  },
  {
   "cell_type": "code",
   "execution_count": 14,
   "id": "2cb8ed64-2e3a-4cf6-932a-a608dc9d1873",
   "metadata": {},
   "outputs": [],
   "source": [
    "df= pd.DataFrame({'address1': [],\n",
    "                 'address2': [],\n",
    "                 'city': [],\n",
    "                 'state': [],\n",
    "                 'postalCode': [],\n",
    "                 'coordinates.lat': [],\n",
    "                 'coordinates.lng': []\n",
    "                 })"
   ]
  },
  {
   "cell_type": "code",
   "execution_count": 15,
   "id": "758c79ec-32d8-4e34-986d-865ab315066a",
   "metadata": {},
   "outputs": [],
   "source": [
    "#df= pd.DataFrame({'Table of 9': [9,18,27],\n",
    "#        'Table of 10': [10,20,30]})"
   ]
  },
  {
   "cell_type": "code",
   "execution_count": 19,
   "id": "adbc6df5-4d88-4c98-99fc-47f910cf37bd",
   "metadata": {},
   "outputs": [
    {
     "data": {
      "text/html": [
       "<div>\n",
       "<style scoped>\n",
       "    .dataframe tbody tr th:only-of-type {\n",
       "        vertical-align: middle;\n",
       "    }\n",
       "\n",
       "    .dataframe tbody tr th {\n",
       "        vertical-align: top;\n",
       "    }\n",
       "\n",
       "    .dataframe thead th {\n",
       "        text-align: right;\n",
       "    }\n",
       "</style>\n",
       "<table border=\"1\" class=\"dataframe\">\n",
       "  <thead>\n",
       "    <tr style=\"text-align: right;\">\n",
       "      <th></th>\n",
       "      <th>address1</th>\n",
       "      <th>address2</th>\n",
       "      <th>city</th>\n",
       "      <th>state</th>\n",
       "      <th>postalCode</th>\n",
       "      <th>coordinates.lat</th>\n",
       "      <th>coordinates.lng</th>\n",
       "    </tr>\n",
       "  </thead>\n",
       "  <tbody>\n",
       "  </tbody>\n",
       "</table>\n",
       "</div>"
      ],
      "text/plain": [
       "Empty DataFrame\n",
       "Columns: [address1, address2, city, state, postalCode, coordinates.lat, coordinates.lng]\n",
       "Index: []"
      ]
     },
     "execution_count": 19,
     "metadata": {},
     "output_type": "execute_result"
    }
   ],
   "source": [
    "df"
   ]
  },
  {
   "cell_type": "code",
   "execution_count": 22,
   "id": "76b47633-d422-4382-89b3-c11e75aec38f",
   "metadata": {},
   "outputs": [],
   "source": [
    "df = []\n",
    "for i in range(5):\n",
    "    data = create_random_address_us()\n",
    "    # store DataFrame in list\n",
    "    df.append(df)"
   ]
  },
  {
   "cell_type": "code",
   "execution_count": 24,
   "id": "bd5e6316-a4b3-4fef-b409-c0fb9fe2f215",
   "metadata": {},
   "outputs": [
    {
     "data": {
      "text/plain": [
       "[[...], [...], [...], [...], [...]]"
      ]
     },
     "execution_count": 24,
     "metadata": {},
     "output_type": "execute_result"
    }
   ],
   "source": [
    "df"
   ]
  },
  {
   "cell_type": "code",
   "execution_count": null,
   "id": "e6767f10-7f75-4b7d-9291-67467432154f",
   "metadata": {},
   "outputs": [],
   "source": [
    "rows = []\n"
   ]
  },
  {
   "cell_type": "code",
   "execution_count": 21,
   "id": "e4b552b9-4322-4d61-9f9b-b089d370b58b",
   "metadata": {},
   "outputs": [
    {
     "ename": "NameError",
     "evalue": "name 'rows' is not defined",
     "output_type": "error",
     "traceback": [
      "\u001b[1;31m---------------------------------------------------------------------------\u001b[0m",
      "\u001b[1;31mNameError\u001b[0m                                 Traceback (most recent call last)",
      "Cell \u001b[1;32mIn[21], line 3\u001b[0m\n\u001b[0;32m      1\u001b[0m \u001b[38;5;28;01mfor\u001b[39;00m i \u001b[38;5;129;01min\u001b[39;00m \u001b[38;5;28mrange\u001b[39m(\u001b[38;5;241m4\u001b[39m,\u001b[38;5;241m11\u001b[39m):\n\u001b[0;32m      2\u001b[0m     \u001b[38;5;66;03m# df=df.append({'Table of 9':i*9,'Table of 10':i*10},ignore_index=True)\u001b[39;00m\n\u001b[1;32m----> 3\u001b[0m     df \u001b[38;5;241m=\u001b[39m pd\u001b[38;5;241m.\u001b[39mconcat([df, pd\u001b[38;5;241m.\u001b[39mDataFrame(\u001b[43mrows\u001b[49m)], axis\u001b[38;5;241m=\u001b[39m\u001b[38;5;241m0\u001b[39m, ignore_index\u001b[38;5;241m=\u001b[39m\u001b[38;5;28;01mTrue\u001b[39;00m)\n",
      "\u001b[1;31mNameError\u001b[0m: name 'rows' is not defined"
     ]
    }
   ],
   "source": [
    "for i in range(4,11):\n",
    "    # df=df.append({'Table of 9':i*9,'Table of 10':i*10},ignore_index=True)\n",
    "    df = pd.concat([df, pd.DataFrame(rows)], axis=0, ignore_index=True)\n",
    "\n",
    "    "
   ]
  },
  {
   "cell_type": "code",
   "execution_count": null,
   "id": "f65bbda3-e8f8-4aec-a4dc-a633039c8f70",
   "metadata": {},
   "outputs": [],
   "source": [
    "df"
   ]
  },
  {
   "cell_type": "code",
   "execution_count": null,
   "id": "c2ec45f0-1fc8-4888-ab42-a4f86b91d4d6",
   "metadata": {},
   "outputs": [],
   "source": [
    "df=pd.DataFrame()\n",
    "for infile in glob.glob(\"*.xlsx\"):\n",
    "    data = pandas.read_excel(infile)\n",
    "    data_you_need=data_you_need.append(data,ignore_index=True)"
   ]
  },
  {
   "cell_type": "code",
   "execution_count": null,
   "id": "e3284da9-4070-432e-84f3-f6a1d4069aa1",
   "metadata": {},
   "outputs": [],
   "source": [
    "appended_data.to_csv('random_addresses_us.csv')"
   ]
  },
  {
   "cell_type": "code",
   "execution_count": null,
   "id": "028e99a1-5db8-42ca-a3ef-d8c0b94fe166",
   "metadata": {},
   "outputs": [],
   "source": [
    "pd.DataFrame(appended_data)"
   ]
  },
  {
   "cell_type": "code",
   "execution_count": null,
   "id": "c6d80558-6bdc-47d3-b4b6-943fbb9736cf",
   "metadata": {},
   "outputs": [],
   "source": [
    "type(appended_data)"
   ]
  },
  {
   "cell_type": "code",
   "execution_count": null,
   "id": "f7131098-f919-4ba9-86ac-474b6d6eabbc",
   "metadata": {},
   "outputs": [],
   "source": [
    "appended_data"
   ]
  },
  {
   "cell_type": "code",
   "execution_count": 39,
   "id": "0d105ef6-38e0-4851-8396-a198064d498a",
   "metadata": {},
   "outputs": [],
   "source": [
    "add_col_names = ['address1',\n",
    "'address2',\n",
    "'city',\n",
    "'state',\n",
    "'postalCode',\n",
    "'coordinates.lat',\n",
    "'coordinates.lng']"
   ]
  },
  {
   "cell_type": "code",
   "execution_count": null,
   "id": "76ef2051-553f-4d8b-84f9-dfabcb053b7b",
   "metadata": {},
   "outputs": [],
   "source": []
  },
  {
   "cell_type": "code",
   "execution_count": null,
   "id": "30005879-259c-4def-bceb-e4d0e1912917",
   "metadata": {},
   "outputs": [],
   "source": []
  },
  {
   "cell_type": "code",
   "execution_count": 25,
   "id": "afd1f65e-6d84-4025-bf2d-5f044adaf7f3",
   "metadata": {},
   "outputs": [],
   "source": [
    "appended_data = []\n",
    "for i in range(5):\n",
    "    data = create_random_address_us()\n",
    "    # store DataFrame in list\n",
    "    appended_data.append(data)"
   ]
  },
  {
   "cell_type": "code",
   "execution_count": 26,
   "id": "e08e4fda-8b74-4699-b47b-f5e8b620cba3",
   "metadata": {},
   "outputs": [
    {
     "data": {
      "text/plain": [
       "[            address1 address2        city state postalCode  coordinates.lat  \\\n",
       " 0  52 Linnmore Drive           Manchester    CT      06040          41.7772   \n",
       " \n",
       "    coordinates.lng  \n",
       " 0       -72.546698  ,\n",
       "                address1 address2         city state postalCode  \\\n",
       " 0  105 Ridgecrest Court           Panama City    FL      32405   \n",
       " \n",
       "    coordinates.lat  coordinates.lng  \n",
       " 0        30.198864        -85.66109  ,\n",
       "          address1 address2       city state postalCode  coordinates.lat  \\\n",
       " 0  1404 James Way           Edgewater    MD      21037        38.887964   \n",
       " \n",
       "    coordinates.lng  \n",
       " 0       -76.510093  ,\n",
       "               address1 address2       city state postalCode  coordinates.lat  \\\n",
       " 0  31 Hills Point Road           Charlotte    VT      05445        44.335754   \n",
       " \n",
       "    coordinates.lng  \n",
       " 0       -73.280121  ,\n",
       "                address1 address2        city state postalCode  \\\n",
       " 0  3819 Vineyard Avenue      #59  Pleasanton    CA      94566   \n",
       " \n",
       "    coordinates.lat  coordinates.lng  \n",
       " 0        37.663149      -121.862728  ]"
      ]
     },
     "execution_count": 26,
     "metadata": {},
     "output_type": "execute_result"
    }
   ],
   "source": [
    "appended_data"
   ]
  },
  {
   "cell_type": "code",
   "execution_count": 41,
   "id": "8b96cefd-9884-4022-907e-2eda38802e08",
   "metadata": {},
   "outputs": [
    {
     "ename": "ValueError",
     "evalue": "Must pass 2-d input. shape=(5, 1, 7)",
     "output_type": "error",
     "traceback": [
      "\u001b[1;31m---------------------------------------------------------------------------\u001b[0m",
      "\u001b[1;31mValueError\u001b[0m                                Traceback (most recent call last)",
      "Cell \u001b[1;32mIn[41], line 2\u001b[0m\n\u001b[0;32m      1\u001b[0m \u001b[38;5;66;03m#pd.DataFrame(appended_data[1:2],columns=appended_data[0])\u001b[39;00m\n\u001b[1;32m----> 2\u001b[0m \u001b[43mpd\u001b[49m\u001b[38;5;241;43m.\u001b[39;49m\u001b[43mDataFrame\u001b[49m\u001b[43m(\u001b[49m\u001b[43mappended_data\u001b[49m\u001b[43m,\u001b[49m\u001b[43m \u001b[49m\u001b[43mcolumns\u001b[49m\u001b[38;5;241;43m=\u001b[39;49m\u001b[43madd_col_names\u001b[49m\u001b[43m)\u001b[49m\u001b[38;5;241m.\u001b[39mexplode(\u001b[38;5;124m'\u001b[39m\u001b[38;5;124mItem\u001b[39m\u001b[38;5;124m'\u001b[39m, ignore_index\u001b[38;5;241m=\u001b[39m\u001b[38;5;28;01mTrue\u001b[39;00m)\n",
      "File \u001b[1;32m~\\miniconda3\\lib\\site-packages\\pandas\\core\\frame.py:762\u001b[0m, in \u001b[0;36mDataFrame.__init__\u001b[1;34m(self, data, index, columns, dtype, copy)\u001b[0m\n\u001b[0;32m    754\u001b[0m         mgr \u001b[38;5;241m=\u001b[39m arrays_to_mgr(\n\u001b[0;32m    755\u001b[0m             arrays,\n\u001b[0;32m    756\u001b[0m             columns,\n\u001b[1;32m   (...)\u001b[0m\n\u001b[0;32m    759\u001b[0m             typ\u001b[38;5;241m=\u001b[39mmanager,\n\u001b[0;32m    760\u001b[0m         )\n\u001b[0;32m    761\u001b[0m     \u001b[38;5;28;01melse\u001b[39;00m:\n\u001b[1;32m--> 762\u001b[0m         mgr \u001b[38;5;241m=\u001b[39m \u001b[43mndarray_to_mgr\u001b[49m\u001b[43m(\u001b[49m\n\u001b[0;32m    763\u001b[0m \u001b[43m            \u001b[49m\u001b[43mdata\u001b[49m\u001b[43m,\u001b[49m\n\u001b[0;32m    764\u001b[0m \u001b[43m            \u001b[49m\u001b[43mindex\u001b[49m\u001b[43m,\u001b[49m\n\u001b[0;32m    765\u001b[0m \u001b[43m            \u001b[49m\u001b[43mcolumns\u001b[49m\u001b[43m,\u001b[49m\n\u001b[0;32m    766\u001b[0m \u001b[43m            \u001b[49m\u001b[43mdtype\u001b[49m\u001b[38;5;241;43m=\u001b[39;49m\u001b[43mdtype\u001b[49m\u001b[43m,\u001b[49m\n\u001b[0;32m    767\u001b[0m \u001b[43m            \u001b[49m\u001b[43mcopy\u001b[49m\u001b[38;5;241;43m=\u001b[39;49m\u001b[43mcopy\u001b[49m\u001b[43m,\u001b[49m\n\u001b[0;32m    768\u001b[0m \u001b[43m            \u001b[49m\u001b[43mtyp\u001b[49m\u001b[38;5;241;43m=\u001b[39;49m\u001b[43mmanager\u001b[49m\u001b[43m,\u001b[49m\n\u001b[0;32m    769\u001b[0m \u001b[43m        \u001b[49m\u001b[43m)\u001b[49m\n\u001b[0;32m    770\u001b[0m \u001b[38;5;28;01melse\u001b[39;00m:\n\u001b[0;32m    771\u001b[0m     mgr \u001b[38;5;241m=\u001b[39m dict_to_mgr(\n\u001b[0;32m    772\u001b[0m         {},\n\u001b[0;32m    773\u001b[0m         index,\n\u001b[1;32m   (...)\u001b[0m\n\u001b[0;32m    776\u001b[0m         typ\u001b[38;5;241m=\u001b[39mmanager,\n\u001b[0;32m    777\u001b[0m     )\n",
      "File \u001b[1;32m~\\miniconda3\\lib\\site-packages\\pandas\\core\\internals\\construction.py:329\u001b[0m, in \u001b[0;36mndarray_to_mgr\u001b[1;34m(values, index, columns, dtype, copy, typ)\u001b[0m\n\u001b[0;32m    324\u001b[0m         values \u001b[38;5;241m=\u001b[39m values\u001b[38;5;241m.\u001b[39mreshape(\u001b[38;5;241m-\u001b[39m\u001b[38;5;241m1\u001b[39m, \u001b[38;5;241m1\u001b[39m)\n\u001b[0;32m    326\u001b[0m \u001b[38;5;28;01melse\u001b[39;00m:\n\u001b[0;32m    327\u001b[0m     \u001b[38;5;66;03m# by definition an array here\u001b[39;00m\n\u001b[0;32m    328\u001b[0m     \u001b[38;5;66;03m# the dtypes will be coerced to a single dtype\u001b[39;00m\n\u001b[1;32m--> 329\u001b[0m     values \u001b[38;5;241m=\u001b[39m \u001b[43m_prep_ndarraylike\u001b[49m\u001b[43m(\u001b[49m\u001b[43mvalues\u001b[49m\u001b[43m,\u001b[49m\u001b[43m \u001b[49m\u001b[43mcopy\u001b[49m\u001b[38;5;241;43m=\u001b[39;49m\u001b[43mcopy_on_sanitize\u001b[49m\u001b[43m)\u001b[49m\n\u001b[0;32m    331\u001b[0m \u001b[38;5;28;01mif\u001b[39;00m dtype \u001b[38;5;129;01mis\u001b[39;00m \u001b[38;5;129;01mnot\u001b[39;00m \u001b[38;5;28;01mNone\u001b[39;00m \u001b[38;5;129;01mand\u001b[39;00m \u001b[38;5;129;01mnot\u001b[39;00m is_dtype_equal(values\u001b[38;5;241m.\u001b[39mdtype, dtype):\n\u001b[0;32m    332\u001b[0m     \u001b[38;5;66;03m# GH#40110 see similar check inside sanitize_array\u001b[39;00m\n\u001b[0;32m    333\u001b[0m     rcf \u001b[38;5;241m=\u001b[39m \u001b[38;5;129;01mnot\u001b[39;00m (is_integer_dtype(dtype) \u001b[38;5;129;01mand\u001b[39;00m values\u001b[38;5;241m.\u001b[39mdtype\u001b[38;5;241m.\u001b[39mkind \u001b[38;5;241m==\u001b[39m \u001b[38;5;124m\"\u001b[39m\u001b[38;5;124mf\u001b[39m\u001b[38;5;124m\"\u001b[39m)\n",
      "File \u001b[1;32m~\\miniconda3\\lib\\site-packages\\pandas\\core\\internals\\construction.py:583\u001b[0m, in \u001b[0;36m_prep_ndarraylike\u001b[1;34m(values, copy)\u001b[0m\n\u001b[0;32m    581\u001b[0m     values \u001b[38;5;241m=\u001b[39m values\u001b[38;5;241m.\u001b[39mreshape((values\u001b[38;5;241m.\u001b[39mshape[\u001b[38;5;241m0\u001b[39m], \u001b[38;5;241m1\u001b[39m))\n\u001b[0;32m    582\u001b[0m \u001b[38;5;28;01melif\u001b[39;00m values\u001b[38;5;241m.\u001b[39mndim \u001b[38;5;241m!=\u001b[39m \u001b[38;5;241m2\u001b[39m:\n\u001b[1;32m--> 583\u001b[0m     \u001b[38;5;28;01mraise\u001b[39;00m \u001b[38;5;167;01mValueError\u001b[39;00m(\u001b[38;5;124mf\u001b[39m\u001b[38;5;124m\"\u001b[39m\u001b[38;5;124mMust pass 2-d input. shape=\u001b[39m\u001b[38;5;132;01m{\u001b[39;00mvalues\u001b[38;5;241m.\u001b[39mshape\u001b[38;5;132;01m}\u001b[39;00m\u001b[38;5;124m\"\u001b[39m)\n\u001b[0;32m    585\u001b[0m \u001b[38;5;28;01mreturn\u001b[39;00m values\n",
      "\u001b[1;31mValueError\u001b[0m: Must pass 2-d input. shape=(5, 1, 7)"
     ]
    }
   ],
   "source": [
    "#pd.DataFrame(appended_data[1:2],columns=appended_data[0])\n",
    "pd.DataFrame(appended_data, columns=add_col_names).explode('Item', ignore_index=True)"
   ]
  },
  {
   "cell_type": "code",
   "execution_count": 43,
   "id": "99d1ca03-ddcb-4cb6-9f93-08f281566e96",
   "metadata": {},
   "outputs": [
    {
     "ename": "AttributeError",
     "evalue": "'list' object has no attribute 'tolist'",
     "output_type": "error",
     "traceback": [
      "\u001b[1;31m---------------------------------------------------------------------------\u001b[0m",
      "\u001b[1;31mAttributeError\u001b[0m                            Traceback (most recent call last)",
      "Cell \u001b[1;32mIn[43], line 1\u001b[0m\n\u001b[1;32m----> 1\u001b[0m pd\u001b[38;5;241m.\u001b[39mDataFrame(\u001b[43mappended_data\u001b[49m\u001b[38;5;241;43m.\u001b[39;49m\u001b[43mtolist\u001b[49m(), columns\u001b[38;5;241m=\u001b[39mappended_data)\n\u001b[0;32m      2\u001b[0m \u001b[38;5;66;03m#pd.DataFrame(appended_data)\u001b[39;00m\n",
      "\u001b[1;31mAttributeError\u001b[0m: 'list' object has no attribute 'tolist'"
     ]
    }
   ],
   "source": [
    "pd.DataFrame(appended_data.tolist(), columns=appended_data)\n",
    "#pd.DataFrame(appended_data)"
   ]
  },
  {
   "cell_type": "code",
   "execution_count": 65,
   "id": "ded2a057-2638-4455-915a-880eab9c97b5",
   "metadata": {},
   "outputs": [],
   "source": [
    "df= pd.DataFrame({'address1': [],\n",
    "                 'address2': [],\n",
    "                 'city': [],\n",
    "                 'state': [],\n",
    "                 'postalCode': [],\n",
    "                 'coordinates.lat': [],\n",
    "                 'coordinates.lng': []\n",
    "                 })"
   ]
  },
  {
   "cell_type": "code",
   "execution_count": 70,
   "id": "a91abadf-36c7-44e0-a09c-613f862c1317",
   "metadata": {},
   "outputs": [
    {
     "ename": "TypeError",
     "evalue": "'int' object is not iterable",
     "output_type": "error",
     "traceback": [
      "\u001b[1;31m---------------------------------------------------------------------------\u001b[0m",
      "\u001b[1;31mTypeError\u001b[0m                                 Traceback (most recent call last)",
      "Cell \u001b[1;32mIn[70], line 1\u001b[0m\n\u001b[1;32m----> 1\u001b[0m \u001b[38;5;28;01mfor\u001b[39;00m df \u001b[38;5;129;01min\u001b[39;00m \u001b[38;5;241m1\u001b[39m:\n\u001b[0;32m      3\u001b[0m        \u001b[38;5;28;01mif\u001b[39;00m \u001b[38;5;129;01mnot\u001b[39;00m os\u001b[38;5;241m.\u001b[39mpath\u001b[38;5;241m.\u001b[39misfile(\u001b[38;5;124m\"\u001b[39m\u001b[38;5;124mData\u001b[39m\u001b[38;5;130;01m\\r\u001b[39;00m\u001b[38;5;124mandom_us_addresses.csv\u001b[39m\u001b[38;5;124m\"\u001b[39m):\n\u001b[0;32m      4\u001b[0m            df\u001b[38;5;241m.\u001b[39mto_csv(filename, header\u001b[38;5;241m=\u001b[39m\u001b[38;5;124m'\u001b[39m\u001b[38;5;124mcolumn_names\u001b[39m\u001b[38;5;124m'\u001b[39m, index\u001b[38;5;241m=\u001b[39m\u001b[38;5;28;01mFalse\u001b[39;00m)\n",
      "\u001b[1;31mTypeError\u001b[0m: 'int' object is not iterable"
     ]
    }
   ],
   "source": [
    " for df in 1:\n",
    "\n",
    "        if not os.path.isfile(\"random_us_addresses.csv\"):\n",
    "            df.to_csv(filename, header='column_names', index=False)\n",
    "        else:  # else it exists so append without writing the header\n",
    "            df.to_csv(filename, mode='a', header=False, index=False)"
   ]
  },
  {
   "cell_type": "code",
   "execution_count": 84,
   "id": "98013cc6-9ca4-4ab9-b4d0-e63d7735bc1f",
   "metadata": {},
   "outputs": [
    {
     "data": {
      "text/plain": [
       "'C:\\\\Users\\\\alexz\\\\OneDrive\\\\Documents\\\\AGCS'"
      ]
     },
     "execution_count": 84,
     "metadata": {},
     "output_type": "execute_result"
    }
   ],
   "source": [
    "os.getcwd()"
   ]
  },
  {
   "cell_type": "code",
   "execution_count": 85,
   "id": "31cb27cc-c3a4-4b44-818b-670c1472e56d",
   "metadata": {},
   "outputs": [],
   "source": [
    "os.chdir('C:/Users/alexz/OneDrive/Documents/AGCS/Data')"
   ]
  },
  {
   "cell_type": "code",
   "execution_count": 86,
   "id": "12180dbf-1891-42e2-b6cc-08bb1ed73176",
   "metadata": {},
   "outputs": [],
   "source": [
    "import os\n",
    "filename = \"random_us_addresses.csv\"\n",
    "if not os.path.isfile(filename):\n",
    "    df.to_csv(filename, header='column_names', index=False)\n",
    "else:  # else it exists so append without writing the header\n",
    "    df.to_csv(filename, mode='a', header=False, index=False)"
   ]
  },
  {
   "cell_type": "code",
   "execution_count": null,
   "id": "e3a23d24-e15b-4396-a133-32750d78490d",
   "metadata": {},
   "outputs": [],
   "source": [
    "for i in range(5):\n",
    "    address_data = create_random_address_us()\n",
    "    # store DataFrame in list\n",
    "    address_data.to_csv(filename, mode='a', header=False, index=False)"
   ]
  },
  {
   "cell_type": "code",
   "execution_count": 59,
   "id": "0296b2b7-2ba2-423a-88bc-b788bce2d54d",
   "metadata": {},
   "outputs": [
    {
     "data": {
      "text/plain": [
       "_StoreAction(option_strings=['--opt1'], dest='opt1', nargs=None, const=None, default=None, type=None, choices=None, required=False, help=None, metavar=None)"
      ]
     },
     "execution_count": 59,
     "metadata": {},
     "output_type": "execute_result"
    }
   ],
   "source": [
    "import argparse\n",
    "parser = argparse.ArgumentParser(description='Script so useful.')\n",
    "parser.add_argument(\"--opt1\")"
   ]
  },
  {
   "cell_type": "code",
   "execution_count": 79,
   "id": "9443bb96-874c-431e-bae9-62b6e87c08ff",
   "metadata": {},
   "outputs": [
    {
     "data": {
      "text/plain": [
       "'random_us_addresses.csv'"
      ]
     },
     "execution_count": 79,
     "metadata": {},
     "output_type": "execute_result"
    }
   ],
   "source": [
    "filename"
   ]
  },
  {
   "cell_type": "code",
   "execution_count": null,
   "id": "4d13aebe-cab4-4f04-94fe-da45f2595be3",
   "metadata": {},
   "outputs": [],
   "source": []
  }
 ],
 "metadata": {
  "kernelspec": {
   "display_name": "Python 3 (ipykernel)",
   "language": "python",
   "name": "python3"
  },
  "language_info": {
   "codemirror_mode": {
    "name": "ipython",
    "version": 3
   },
   "file_extension": ".py",
   "mimetype": "text/x-python",
   "name": "python",
   "nbconvert_exporter": "python",
   "pygments_lexer": "ipython3",
   "version": "3.10.9"
  }
 },
 "nbformat": 4,
 "nbformat_minor": 5
}
